{
 "cells": [
  {
   "cell_type": "code",
   "execution_count": 18,
   "id": "d99a9e69",
   "metadata": {},
   "outputs": [],
   "source": [
    "import numpy as np\n",
    "import pandas as pd\n",
    "import matplotlib.pyplot as plt\n",
    "import seaborn as sns \n",
    "from scipy import stats\n",
    "from scipy.stats.mstats import winsorize\n"
   ]
  },
  {
   "cell_type": "code",
   "execution_count": 19,
   "id": "326c68bb",
   "metadata": {},
   "outputs": [],
   "source": [
    "df = pd.read_csv(\"filled_scout.csv\")"
   ]
  },
  {
   "cell_type": "code",
   "execution_count": 20,
   "id": "ef64b178",
   "metadata": {},
   "outputs": [],
   "source": [
    "def fill_most(df, group_col, col_name):\n",
    "    '''Fills the missing values with the most existing value (mode) in the relevant column according to single-stage grouping'''\n",
    "    for group in list(df[group_col].unique()):\n",
    "        cond = df[group_col]==group\n",
    "        mode = list(df[cond][col_name].mode())\n",
    "        if mode != []:\n",
    "            df.loc[cond, col_name] = df.loc[cond, col_name].fillna(df[cond][col_name].mode()[0])\n",
    "        else:\n",
    "            df.loc[cond, col_name] = df.loc[cond, col_name].fillna(df[col_name].mode()[0])\n",
    "    print(\"Number of NaN : \",df[col_name].isnull().sum())\n",
    "    print(\"------------------\")\n",
    "    print(df[col_name].value_counts(dropna=False))"
   ]
  },
  {
   "cell_type": "code",
   "execution_count": 21,
   "id": "40534b46",
   "metadata": {},
   "outputs": [],
   "source": [
    "def fill_prop(df, group_col, col_name):\n",
    "    for group in list(df[group_col].unique()):\n",
    "        cond = df[group_col]==group\n",
    "        df.loc[cond, col_name] = df.loc[cond, col_name].fillna(method=\"ffill\").fillna(method=\"bfill\")\n",
    "    df[col_name] = df[col_name].fillna(method=\"ffill\").fillna(method=\"bfill\")\n",
    "    print(\"Number of NaN : \",df[col_name].isnull().sum())\n",
    "    print(\"------------------\")\n",
    "    print(df[col_name].value_counts(dropna=False))"
   ]
  },
  {
   "cell_type": "code",
   "execution_count": 22,
   "id": "08ee9b1e",
   "metadata": {},
   "outputs": [],
   "source": [
    "def fill(df, group_col1, group_col2, col_name, method): # method can be \"mode\" or \"median\" or \"ffill\"\n",
    "    if method == \"mode\":\n",
    "        for group1 in list(df[group_col1].unique()):\n",
    "            for group2 in list(df[group_col2].unique()):\n",
    "                cond1 = df[group_col1]==group1\n",
    "                cond2 = (df[group_col1]==group1) & (df[group_col2]==group2)\n",
    "                mode1 = list(df[cond1][col_name].mode())\n",
    "                mode2 = list(df[cond2][col_name].mode())\n",
    "                if mode2 != []:\n",
    "                    df.loc[cond2, col_name] = df.loc[cond2, col_name].fillna(df[cond2][col_name].mode()[0])\n",
    "                elif mode1 != []:\n",
    "                    df.loc[cond2, col_name] = df.loc[cond2, col_name].fillna(df[cond1][col_name].mode()[0])\n",
    "                else:\n",
    "                    df.loc[cond2, col_name] = df.loc[cond2, col_name].fillna(df[col_name].mode()[0])\n",
    "                \n",
    "    elif method == \"median\":\n",
    "        for group1 in list(df[group_col1].unique()):\n",
    "            for group2 in list(df[group_col2].unique()):\n",
    "                cond1 = df[group_col1]==group1\n",
    "                cond2 = (df[group_col1]==group1) & (df[group_col2]==group2)\n",
    "                df.loc[cond2, col_name] = df.loc[cond2, col_name].fillna(df[cond2][col_name].median()).fillna(df[cond1][col_name].median()).fillna(df[col_name].median())\n",
    "                \n",
    "    elif method == \"ffill\":           \n",
    "        for group1 in list(df[group_col1].unique()):\n",
    "            for group2 in list(df[group_col2].unique()):\n",
    "                cond2 = (df[group_col1]==group1) & (df[group_col2]==group2)\n",
    "                df.loc[cond2, col_name] = df.loc[cond2, col_name].fillna(method=\"ffill\").fillna(method=\"bfill\")\n",
    "                \n",
    "        for group1 in list(df[group_col1].unique()):\n",
    "            cond1 = df[group_col1]==group1\n",
    "            df.loc[cond1, col_name] = df.loc[cond1, col_name].fillna(method=\"ffill\").fillna(method=\"bfill\")            \n",
    "           \n",
    "        df[col_name] = df[col_name].fillna(method=\"ffill\").fillna(method=\"bfill\")\n",
    "    \n",
    "    print(\"Number of NaN : \",df[col_name].isnull().sum())\n",
    "    print(\"------------------\")\n",
    "    print(df[col_name].value_counts(dropna=False))"
   ]
  },
  {
   "cell_type": "code",
   "execution_count": 23,
   "id": "ef87fe15",
   "metadata": {},
   "outputs": [
    {
     "data": {
      "text/plain": [
       "(15919, 26)"
      ]
     },
     "execution_count": 23,
     "metadata": {},
     "output_type": "execute_result"
    }
   ],
   "source": [
    "df.shape"
   ]
  },
  {
   "cell_type": "code",
   "execution_count": 24,
   "id": "de87eab4",
   "metadata": {},
   "outputs": [
    {
     "data": {
      "text/html": [
       "<div>\n",
       "<style scoped>\n",
       "    .dataframe tbody tr th:only-of-type {\n",
       "        vertical-align: middle;\n",
       "    }\n",
       "\n",
       "    .dataframe tbody tr th {\n",
       "        vertical-align: top;\n",
       "    }\n",
       "\n",
       "    .dataframe thead th {\n",
       "        text-align: right;\n",
       "    }\n",
       "</style>\n",
       "<table border=\"1\" class=\"dataframe\">\n",
       "  <thead>\n",
       "    <tr style=\"text-align: right;\">\n",
       "      <th></th>\n",
       "      <th>0</th>\n",
       "    </tr>\n",
       "  </thead>\n",
       "  <tbody>\n",
       "    <tr>\n",
       "      <th>make_model</th>\n",
       "      <td>Audi A1</td>\n",
       "    </tr>\n",
       "    <tr>\n",
       "      <th>body_type</th>\n",
       "      <td>Sedans</td>\n",
       "    </tr>\n",
       "    <tr>\n",
       "      <th>price</th>\n",
       "      <td>15770</td>\n",
       "    </tr>\n",
       "    <tr>\n",
       "      <th>vat</th>\n",
       "      <td>VAT deductible</td>\n",
       "    </tr>\n",
       "    <tr>\n",
       "      <th>km</th>\n",
       "      <td>56013.0</td>\n",
       "    </tr>\n",
       "    <tr>\n",
       "      <th>Type</th>\n",
       "      <td>Used</td>\n",
       "    </tr>\n",
       "    <tr>\n",
       "      <th>Fuel</th>\n",
       "      <td>Diesel</td>\n",
       "    </tr>\n",
       "    <tr>\n",
       "      <th>Gears</th>\n",
       "      <td>7.0</td>\n",
       "    </tr>\n",
       "    <tr>\n",
       "      <th>Comfort_Convenience</th>\n",
       "      <td>Air conditioning,Armrest,Automatic climate con...</td>\n",
       "    </tr>\n",
       "    <tr>\n",
       "      <th>Entertainment_Media</th>\n",
       "      <td>Bluetooth,Hands-free equipment,On-board comput...</td>\n",
       "    </tr>\n",
       "    <tr>\n",
       "      <th>Extras</th>\n",
       "      <td>Alloy wheels,Catalytic Converter,Voice Control</td>\n",
       "    </tr>\n",
       "    <tr>\n",
       "      <th>Safety_Security</th>\n",
       "      <td>ABS,Central door lock,Daytime running lights,D...</td>\n",
       "    </tr>\n",
       "    <tr>\n",
       "      <th>age</th>\n",
       "      <td>3.0</td>\n",
       "    </tr>\n",
       "    <tr>\n",
       "      <th>Previous_Owners</th>\n",
       "      <td>2.0</td>\n",
       "    </tr>\n",
       "    <tr>\n",
       "      <th>hp_kW</th>\n",
       "      <td>66.0</td>\n",
       "    </tr>\n",
       "    <tr>\n",
       "      <th>Inspection_new</th>\n",
       "      <td>1</td>\n",
       "    </tr>\n",
       "    <tr>\n",
       "      <th>Paint_Type</th>\n",
       "      <td>Metallic</td>\n",
       "    </tr>\n",
       "    <tr>\n",
       "      <th>Upholstery_type</th>\n",
       "      <td>Cloth</td>\n",
       "    </tr>\n",
       "    <tr>\n",
       "      <th>Nr_of_Doors</th>\n",
       "      <td>5.0</td>\n",
       "    </tr>\n",
       "    <tr>\n",
       "      <th>Nr_of_Seats</th>\n",
       "      <td>5.0</td>\n",
       "    </tr>\n",
       "    <tr>\n",
       "      <th>Gearing_Type</th>\n",
       "      <td>Automatic</td>\n",
       "    </tr>\n",
       "    <tr>\n",
       "      <th>Displacement_cc</th>\n",
       "      <td>1422.0</td>\n",
       "    </tr>\n",
       "    <tr>\n",
       "      <th>Weight_kg</th>\n",
       "      <td>1220.0</td>\n",
       "    </tr>\n",
       "    <tr>\n",
       "      <th>Drive_chain</th>\n",
       "      <td>front</td>\n",
       "    </tr>\n",
       "    <tr>\n",
       "      <th>cons_comb</th>\n",
       "      <td>3.8</td>\n",
       "    </tr>\n",
       "    <tr>\n",
       "      <th>CO2_Emission</th>\n",
       "      <td>99.0</td>\n",
       "    </tr>\n",
       "  </tbody>\n",
       "</table>\n",
       "</div>"
      ],
      "text/plain": [
       "                                                                     0\n",
       "make_model                                                     Audi A1\n",
       "body_type                                                       Sedans\n",
       "price                                                            15770\n",
       "vat                                                     VAT deductible\n",
       "km                                                             56013.0\n",
       "Type                                                              Used\n",
       "Fuel                                                            Diesel\n",
       "Gears                                                              7.0\n",
       "Comfort_Convenience  Air conditioning,Armrest,Automatic climate con...\n",
       "Entertainment_Media  Bluetooth,Hands-free equipment,On-board comput...\n",
       "Extras                  Alloy wheels,Catalytic Converter,Voice Control\n",
       "Safety_Security      ABS,Central door lock,Daytime running lights,D...\n",
       "age                                                                3.0\n",
       "Previous_Owners                                                    2.0\n",
       "hp_kW                                                             66.0\n",
       "Inspection_new                                                       1\n",
       "Paint_Type                                                    Metallic\n",
       "Upholstery_type                                                  Cloth\n",
       "Nr_of_Doors                                                        5.0\n",
       "Nr_of_Seats                                                        5.0\n",
       "Gearing_Type                                                 Automatic\n",
       "Displacement_cc                                                 1422.0\n",
       "Weight_kg                                                       1220.0\n",
       "Drive_chain                                                      front\n",
       "cons_comb                                                          3.8\n",
       "CO2_Emission                                                      99.0"
      ]
     },
     "execution_count": 24,
     "metadata": {},
     "output_type": "execute_result"
    }
   ],
   "source": [
    "df.head(1).T"
   ]
  },
  {
   "cell_type": "code",
   "execution_count": 25,
   "id": "da8e4257",
   "metadata": {},
   "outputs": [
    {
     "name": "stderr",
     "output_type": "stream",
     "text": [
      "C:\\anaconda\\lib\\site-packages\\pandas\\core\\arraylike.py:397: RuntimeWarning: divide by zero encountered in log\n",
      "  result = getattr(ufunc, method)(*inputs, **kwargs)\n"
     ]
    },
    {
     "data": {
      "image/png": "[encoded data removed]",
      "text/plain": [
       "<Figure size 1080x720 with 4 Axes>"
      ]
     },
     "metadata": {
      "needs_background": "light"
     },
     "output_type": "display_data"
    }
   ],
   "source": [
    "plt.figure(figsize=(15,10))\n",
    "plt.subplot(141)\n",
    "plt.hist(df.km, bins = 50)\n",
    "\n",
    "plt.subplot(142)\n",
    "plt.boxplot(df.km)\n",
    "\n",
    "plt.subplot(143)\n",
    "plt.boxplot(df.km, whis = 2.5)\n",
    "\n",
    "plt.subplot(144)\n",
    "plt.boxplot(np.log(df.km), whis = 2.5)\n",
    "plt.show();"
   ]
  },
  {
   "cell_type": "code",
   "execution_count": 26,
   "id": "ce6cfd4d",
   "metadata": {},
   "outputs": [
    {
     "data": {
      "text/plain": [
       "count    15919.000000\n",
       "mean         4.832141\n",
       "std          0.867504\n",
       "min          3.000000\n",
       "25%          4.100000\n",
       "50%          4.800000\n",
       "75%          5.400000\n",
       "max          9.100000\n",
       "Name: cons_comb, dtype: float64"
      ]
     },
     "execution_count": 26,
     "metadata": {},
     "output_type": "execute_result"
    }
   ],
   "source": [
    "df.cons_comb.describe()"
   ]
  },
  {
   "cell_type": "code",
   "execution_count": 27,
   "id": "b971fa9a",
   "metadata": {},
   "outputs": [
    {
     "data": {
      "text/plain": [
       "6440     3.0\n",
       "2863     3.0\n",
       "2862     3.0\n",
       "13493    3.0\n",
       "13482    3.0\n",
       "11004    3.0\n",
       "11015    3.0\n",
       "11044    3.0\n",
       "811      3.0\n",
       "6240     3.0\n",
       "Name: cons_comb, dtype: float64"
      ]
     },
     "execution_count": 27,
     "metadata": {},
     "output_type": "execute_result"
    }
   ],
   "source": [
    "df.cons_comb.sort_values().head(10)"
   ]
  },
  {
   "cell_type": "code",
   "execution_count": 28,
   "id": "7c09c7b2",
   "metadata": {},
   "outputs": [
    {
     "data": {
      "text/plain": [
       "3601     8.3\n",
       "3649     8.3\n",
       "10789    8.6\n",
       "12553    8.6\n",
       "12530    8.6\n",
       "12422    8.6\n",
       "10817    8.7\n",
       "12054    8.7\n",
       "12529    8.7\n",
       "10771    9.1\n",
       "Name: cons_comb, dtype: float64"
      ]
     },
     "execution_count": 28,
     "metadata": {},
     "output_type": "execute_result"
    }
   ],
   "source": [
    "df.cons_comb.sort_values().tail(10)"
   ]
  },
  {
   "cell_type": "code",
   "execution_count": 29,
   "id": "6e5a4700",
   "metadata": {},
   "outputs": [
    {
     "data": {
      "image/png": "[encoded data removed]",
      "text/plain": [
       "<Figure size 720x432 with 2 Axes>"
      ]
     },
     "metadata": {
      "needs_background": "light"
     },
     "output_type": "display_data"
    }
   ],
   "source": [
    "plt.figure(figsize = (10, 6))\n",
    "plt.subplot(121)\n",
    "plt.hist(df.cons_comb, bins = 25)\n",
    "\n",
    "plt.subplot(122)\n",
    "plt.boxplot(df.cons_comb, whis = 2.5)\n",
    "\n",
    "plt.show()"
   ]
  },
  {
   "cell_type": "code",
   "execution_count": 30,
   "id": "0a05a97d",
   "metadata": {},
   "outputs": [
    {
     "data": {
      "image/png": "[encoded data removed]",
      "text/plain": [
       "<Figure size 720x432 with 2 Axes>"
      ]
     },
     "metadata": {
      "needs_background": "light"
     },
     "output_type": "display_data"
    }
   ],
   "source": [
    "plt.figure(figsize = (10, 6))\n",
    "plt.subplot(121)\n",
    "plt.hist(np.log(df.cons_comb), bins = 25)\n",
    "\n",
    "plt.subplot(122)\n",
    "plt.boxplot(np.log(df.cons_comb), whis = 2)\n",
    "\n",
    "plt.show()"
   ]
  },
  {
   "cell_type": "code",
   "execution_count": 31,
   "id": "6cae6c28",
   "metadata": {},
   "outputs": [
    {
     "data": {
      "text/plain": [
       "count    15919.000000\n",
       "mean      1425.609335\n",
       "std        329.720022\n",
       "min          1.000000\n",
       "25%       1229.000000\n",
       "50%       1461.000000\n",
       "75%       1598.000000\n",
       "max      16000.000000\n",
       "Name: Displacement_cc, dtype: float64"
      ]
     },
     "execution_count": 31,
     "metadata": {},
     "output_type": "execute_result"
    }
   ],
   "source": [
    "df.Displacement_cc.describe()"
   ]
  },
  {
   "cell_type": "code",
   "execution_count": 32,
   "id": "0f54fee7",
   "metadata": {},
   "outputs": [
    {
     "data": {
      "text/plain": [
       "10932    16000.0\n",
       "7169     15898.0\n",
       "10771     2967.0\n",
       "3595      2480.0\n",
       "3587      2480.0\n",
       "3649      2480.0\n",
       "3590      2480.0\n",
       "3599      2480.0\n",
       "3598      2480.0\n",
       "3596      2480.0\n",
       "3600      2480.0\n",
       "3601      2480.0\n",
       "3610      2480.0\n",
       "3609      2480.0\n",
       "3608      2480.0\n",
       "3606      2480.0\n",
       "3605      2480.0\n",
       "3648      2480.0\n",
       "3592      2480.0\n",
       "3593      2480.0\n",
       "3602      2480.0\n",
       "3604      2480.0\n",
       "3603      2480.0\n",
       "12176     2000.0\n",
       "12462     2000.0\n",
       "12521     2000.0\n",
       "12170     2000.0\n",
       "13027     2000.0\n",
       "11929     2000.0\n",
       "12179     2000.0\n",
       "11935     2000.0\n",
       "12181     2000.0\n",
       "11800     2000.0\n",
       "4188      2000.0\n",
       "12526     2000.0\n",
       "12959     2000.0\n",
       "12527     2000.0\n",
       "11977     2000.0\n",
       "12469     2000.0\n",
       "12520     2000.0\n",
       "12464     2000.0\n",
       "12265     2000.0\n",
       "11870     2000.0\n",
       "10556     2000.0\n",
       "2903      2000.0\n",
       "15197     2000.0\n",
       "12414     2000.0\n",
       "11988     2000.0\n",
       "13050     2000.0\n",
       "12412     2000.0\n",
       "10464     2000.0\n",
       "12560     2000.0\n",
       "12411     2000.0\n",
       "11032     2000.0\n",
       "13054     2000.0\n",
       "Name: Displacement_cc, dtype: float64"
      ]
     },
     "execution_count": 32,
     "metadata": {},
     "output_type": "execute_result"
    }
   ],
   "source": [
    "df.sort_values(by = [\"Displacement_cc\"], ascending = False)[\"Displacement_cc\"].head(55)"
   ]
  },
  {
   "cell_type": "code",
   "execution_count": 33,
   "id": "a94f1ca3",
   "metadata": {},
   "outputs": [],
   "source": [
    "outlier_bool_list = df.Displacement_cc.isin([1, 2, 54, 122, 139, 140, 160, 16000, 15898])"
   ]
  },
  {
   "cell_type": "code",
   "execution_count": 34,
   "id": "572f12e9",
   "metadata": {},
   "outputs": [
    {
     "data": {
      "text/plain": [
       "0        False\n",
       "1        False\n",
       "2        False\n",
       "3        False\n",
       "4        False\n",
       "         ...  \n",
       "15914    False\n",
       "15915    False\n",
       "15916    False\n",
       "15917    False\n",
       "15918    False\n",
       "Name: Displacement_cc, Length: 15919, dtype: bool"
      ]
     },
     "execution_count": 34,
     "metadata": {},
     "output_type": "execute_result"
    }
   ],
   "source": [
    "outlier_bool_list"
   ]
  },
  {
   "cell_type": "code",
   "execution_count": 35,
   "id": "a41fe142",
   "metadata": {},
   "outputs": [],
   "source": [
    "df.loc[outlier_bool_list, \"Displacement_cc\"] = np.nan"
   ]
  },
  {
   "cell_type": "code",
   "execution_count": 36,
   "id": "76fce2f2",
   "metadata": {},
   "outputs": [
    {
     "name": "stdout",
     "output_type": "stream",
     "text": [
      "Number of NaN :  0\n",
      "------------------\n",
      "1598.0    5077\n",
      "999.0     2467\n",
      "1398.0    1388\n",
      "1399.0     772\n",
      "1461.0     682\n",
      "          ... \n",
      "1369.0       1\n",
      "1390.0       1\n",
      "1195.0       1\n",
      "2967.0       1\n",
      "1800.0       1\n",
      "Name: Displacement_cc, Length: 68, dtype: int64\n"
     ]
    }
   ],
   "source": [
    "fill(df, \"make_model\", \"body_type\", \"Displacement_cc\", \"mode\")"
   ]
  },
  {
   "cell_type": "code",
   "execution_count": 37,
   "id": "354d1353",
   "metadata": {},
   "outputs": [
    {
     "data": {
      "image/png": "[encoded data removed]",
      "text/plain": [
       "<Figure size 720x432 with 2 Axes>"
      ]
     },
     "metadata": {
      "needs_background": "light"
     },
     "output_type": "display_data"
    }
   ],
   "source": [
    "plt.figure(figsize=(10,6))\n",
    "plt.subplot(121)\n",
    "plt.hist(df.Displacement_cc, bins = 20)\n",
    "\n",
    "plt.subplot(122)\n",
    "plt.boxplot(df.Displacement_cc, whis = 2.5)\n",
    "\n",
    "plt.show()"
   ]
  },
  {
   "cell_type": "code",
   "execution_count": 38,
   "id": "2b618c74",
   "metadata": {},
   "outputs": [
    {
     "data": {
      "text/plain": [
       "5.0    11787\n",
       "4.0     3079\n",
       "3.0      832\n",
       "2.0      219\n",
       "1.0        1\n",
       "7.0        1\n",
       "Name: Nr_of_Doors, dtype: int64"
      ]
     },
     "execution_count": 38,
     "metadata": {},
     "output_type": "execute_result"
    }
   ],
   "source": [
    "df.Nr_of_Doors.value_counts(dropna = False)"
   ]
  },
  {
   "cell_type": "code",
   "execution_count": 39,
   "id": "391bbb1d",
   "metadata": {},
   "outputs": [],
   "source": [
    "df.Nr_of_Doors.replace([1, 7], np.nan, inplace=True)"
   ]
  },
  {
   "cell_type": "code",
   "execution_count": 40,
   "id": "26722586",
   "metadata": {},
   "outputs": [
    {
     "data": {
      "text/plain": [
       "5.0    11787\n",
       "4.0     3079\n",
       "3.0      832\n",
       "2.0      219\n",
       "NaN        2\n",
       "Name: Nr_of_Doors, dtype: int64"
      ]
     },
     "execution_count": 40,
     "metadata": {},
     "output_type": "execute_result"
    }
   ],
   "source": [
    "df.Nr_of_Doors.value_counts(dropna = False)"
   ]
  },
  {
   "cell_type": "code",
   "execution_count": 41,
   "id": "d21ecb8e",
   "metadata": {},
   "outputs": [
    {
     "name": "stdout",
     "output_type": "stream",
     "text": [
      "Number of NaN :  0\n",
      "------------------\n",
      "5.0    11789\n",
      "4.0     3079\n",
      "3.0      832\n",
      "2.0      219\n",
      "Name: Nr_of_Doors, dtype: int64\n"
     ]
    }
   ],
   "source": [
    "fill(df, \"make_model\", \"body_type\", \"Nr_of_Doors\", \"mode\")"
   ]
  },
  {
   "cell_type": "code",
   "execution_count": 42,
   "id": "2f60bffd",
   "metadata": {},
   "outputs": [
    {
     "data": {
      "image/png": "[encoded data removed]",
      "text/plain": [
       "<Figure size 432x288 with 1 Axes>"
      ]
     },
     "metadata": {
      "needs_background": "light"
     },
     "output_type": "display_data"
    }
   ],
   "source": [
    "df.Nr_of_Doors.value_counts(dropna = False).plot.bar();"
   ]
  },
  {
   "cell_type": "code",
   "execution_count": 43,
   "id": "185dec8a",
   "metadata": {},
   "outputs": [
    {
     "data": {
      "image/png": "[encoded data removed]",
      "text/plain": [
       "<Figure size 432x288 with 1 Axes>"
      ]
     },
     "metadata": {
      "needs_background": "light"
     },
     "output_type": "display_data"
    }
   ],
   "source": [
    "df.groupby([\"make_model\", \"Nr_of_Doors\"]).Nr_of_Doors.count().plot.bar();"
   ]
  },
  {
   "cell_type": "code",
   "execution_count": 44,
   "id": "2dbd67f9",
   "metadata": {},
   "outputs": [],
   "source": [
    "df.drop(\"Nr_of_Doors\", axis=1, inplace=True)"
   ]
  },
  {
   "cell_type": "code",
   "execution_count": 45,
   "id": "b047b5ed",
   "metadata": {},
   "outputs": [
    {
     "data": {
      "text/plain": [
       "5.0    14308\n",
       "4.0     1127\n",
       "7.0      362\n",
       "2.0      119\n",
       "6.0        2\n",
       "3.0        1\n",
       "Name: Nr_of_Seats, dtype: int64"
      ]
     },
     "execution_count": 45,
     "metadata": {},
     "output_type": "execute_result"
    }
   ],
   "source": [
    "df.Nr_of_Seats.value_counts(dropna = False)"
   ]
  },
  {
   "cell_type": "code",
   "execution_count": 46,
   "id": "76d5445e",
   "metadata": {},
   "outputs": [],
   "source": [
    "df.Nr_of_Seats.replace([3, 6], np.nan, inplace=True)"
   ]
  },
  {
   "cell_type": "code",
   "execution_count": 47,
   "id": "cff6c567",
   "metadata": {},
   "outputs": [
    {
     "data": {
      "text/plain": [
       "5.0    14308\n",
       "4.0     1127\n",
       "7.0      362\n",
       "2.0      119\n",
       "NaN        3\n",
       "Name: Nr_of_Seats, dtype: int64"
      ]
     },
     "execution_count": 47,
     "metadata": {},
     "output_type": "execute_result"
    }
   ],
   "source": [
    "df.Nr_of_Seats.value_counts(dropna = False)"
   ]
  },
  {
   "cell_type": "code",
   "execution_count": 48,
   "id": "d621ec0a",
   "metadata": {},
   "outputs": [
    {
     "name": "stdout",
     "output_type": "stream",
     "text": [
      "Number of NaN :  0\n",
      "------------------\n",
      "5.0    14311\n",
      "4.0     1127\n",
      "7.0      362\n",
      "2.0      119\n",
      "Name: Nr_of_Seats, dtype: int64\n"
     ]
    }
   ],
   "source": [
    "fill(df, \"make_model\", \"body_type\", \"Nr_of_Seats\", \"mode\")"
   ]
  },
  {
   "cell_type": "code",
   "execution_count": 49,
   "id": "f12af1b1",
   "metadata": {},
   "outputs": [
    {
     "data": {
      "image/png": "[encoded data removed]",
      "text/plain": [
       "<Figure size 432x288 with 1 Axes>"
      ]
     },
     "metadata": {
      "needs_background": "light"
     },
     "output_type": "display_data"
    }
   ],
   "source": [
    "df.Nr_of_Seats.value_counts(dropna = False).plot.bar();"
   ]
  },
  {
   "cell_type": "code",
   "execution_count": 50,
   "id": "e7044970",
   "metadata": {},
   "outputs": [
    {
     "data": {
      "image/png": "[encoded data removed]",
      "text/plain": [
       "<Figure size 432x288 with 1 Axes>"
      ]
     },
     "metadata": {
      "needs_background": "light"
     },
     "output_type": "display_data"
    }
   ],
   "source": [
    "df.groupby([\"make_model\", \"Nr_of_Seats\"]).Nr_of_Seats.count().plot.bar();"
   ]
  },
  {
   "cell_type": "code",
   "execution_count": 51,
   "id": "27e101d9",
   "metadata": {},
   "outputs": [],
   "source": [
    "df.drop(\"Nr_of_Seats\", axis=1, inplace=True)"
   ]
  },
  {
   "cell_type": "code",
   "execution_count": 52,
   "id": "57f3b9e8",
   "metadata": {},
   "outputs": [
    {
     "data": {
      "text/plain": [
       "count    15919.000000\n",
       "mean      1337.432251\n",
       "std        200.466210\n",
       "min          1.000000\n",
       "25%       1165.000000\n",
       "50%       1295.000000\n",
       "75%       1472.000000\n",
       "max       2471.000000\n",
       "Name: Weight_kg, dtype: float64"
      ]
     },
     "execution_count": 52,
     "metadata": {},
     "output_type": "execute_result"
    }
   ],
   "source": [
    "df.Weight_kg.describe()"
   ]
  },
  {
   "cell_type": "code",
   "execution_count": 53,
   "id": "48e2ed2c",
   "metadata": {},
   "outputs": [
    {
     "data": {
      "text/plain": [
       "8355       1.0\n",
       "12779      1.0\n",
       "1143     102.0\n",
       "8857     840.0\n",
       "14313    900.0\n",
       "13513    977.0\n",
       "13555    977.0\n",
       "14654    980.0\n",
       "14105    980.0\n",
       "13999    980.0\n",
       "Name: Weight_kg, dtype: float64"
      ]
     },
     "execution_count": 53,
     "metadata": {},
     "output_type": "execute_result"
    }
   ],
   "source": [
    "df[\"Weight_kg\"].sort_values().head(10)"
   ]
  },
  {
   "cell_type": "code",
   "execution_count": 54,
   "id": "340ce3aa",
   "metadata": {},
   "outputs": [],
   "source": [
    "df[\"Weight_kg\"].replace([1, 102], np.nan, inplace = True)"
   ]
  },
  {
   "cell_type": "code",
   "execution_count": 55,
   "id": "c54f9a0d",
   "metadata": {},
   "outputs": [
    {
     "data": {
      "text/plain": [
       "3"
      ]
     },
     "execution_count": 55,
     "metadata": {},
     "output_type": "execute_result"
    }
   ],
   "source": [
    "df[\"Weight_kg\"].isnull().sum()"
   ]
  },
  {
   "cell_type": "code",
   "execution_count": 56,
   "id": "a5d93893",
   "metadata": {},
   "outputs": [
    {
     "name": "stdout",
     "output_type": "stream",
     "text": [
      "Number of NaN :  0\n",
      "------------------\n",
      "1163.0    1583\n",
      "1360.0    1419\n",
      "1487.0     967\n",
      "1135.0     837\n",
      "1425.0     744\n",
      "          ... \n",
      "1331.0       1\n",
      "1132.0       1\n",
      "1252.0       1\n",
      "1792.0       1\n",
      "2037.0       1\n",
      "Name: Weight_kg, Length: 432, dtype: int64\n"
     ]
    }
   ],
   "source": [
    "fill(df, \"make_model\", \"body_type\", \"Weight_kg\", \"mode\")"
   ]
  },
  {
   "cell_type": "code",
   "execution_count": 57,
   "id": "8c131654",
   "metadata": {},
   "outputs": [
    {
     "data": {
      "image/png": "[encoded data removed]",
      "text/plain": [
       "<Figure size 720x432 with 2 Axes>"
      ]
     },
     "metadata": {
      "needs_background": "light"
     },
     "output_type": "display_data"
    }
   ],
   "source": [
    "plt.figure(figsize=(10,6))\n",
    "\n",
    "plt.subplot(121)\n",
    "plt.hist(df.Weight_kg, bins=15)\n",
    "\n",
    "plt.subplot(122)\n",
    "plt.boxplot(df.Weight_kg, whis=2.5)\n",
    "\n",
    "plt.show()"
   ]
  },
  {
   "cell_type": "code",
   "execution_count": 58,
   "id": "cc056b89",
   "metadata": {},
   "outputs": [
    {
     "data": {
      "image/png": "[encoded data removed]",
      "text/plain": [
       "<Figure size 720x432 with 2 Axes>"
      ]
     },
     "metadata": {
      "needs_background": "light"
     },
     "output_type": "display_data"
    }
   ],
   "source": [
    "plt.figure(figsize=(10,6))\n",
    "\n",
    "plt.subplot(121)\n",
    "plt.hist(np.log(df.Weight_kg), bins=15)\n",
    "\n",
    "plt.subplot(122)\n",
    "plt.boxplot(np.log(df.Weight_kg), whis=2.5)\n",
    "\n",
    "plt.show()"
   ]
  },
  {
   "cell_type": "code",
   "execution_count": 59,
   "id": "17c05321",
   "metadata": {},
   "outputs": [
    {
     "data": {
      "text/plain": [
       "count    15919.000000\n",
       "mean        88.373893\n",
       "std         26.844440\n",
       "min          1.000000\n",
       "25%         66.000000\n",
       "50%         85.000000\n",
       "75%        101.000000\n",
       "max        294.000000\n",
       "Name: hp_kW, dtype: float64"
      ]
     },
     "execution_count": 59,
     "metadata": {},
     "output_type": "execute_result"
    }
   ],
   "source": [
    "df.hp_kW.describe()"
   ]
  },
  {
   "cell_type": "code",
   "execution_count": 60,
   "id": "5ff7dd49",
   "metadata": {},
   "outputs": [
    {
     "data": {
      "text/plain": [
       "6034      1.0\n",
       "6946      1.0\n",
       "7014      1.0\n",
       "9285      1.0\n",
       "9287      1.0\n",
       "6005      1.0\n",
       "9288      1.0\n",
       "7018      1.0\n",
       "9289      1.0\n",
       "9290      1.0\n",
       "9292      1.0\n",
       "9299      1.0\n",
       "10610     1.0\n",
       "10580     1.0\n",
       "10579     1.0\n",
       "10468     1.0\n",
       "15155     1.0\n",
       "15156     1.0\n",
       "7019      1.0\n",
       "7016      1.0\n",
       "13885     4.0\n",
       "3913      9.0\n",
       "8857     40.0\n",
       "13759    40.0\n",
       "8408     44.0\n",
       "10282    51.0\n",
       "10283    51.0\n",
       "10284    51.0\n",
       "10285    51.0\n",
       "10286    51.0\n",
       "10287    51.0\n",
       "9145     51.0\n",
       "10288    51.0\n",
       "10346    51.0\n",
       "10281    51.0\n",
       "10330    51.0\n",
       "9026     51.0\n",
       "9025     51.0\n",
       "10342    51.0\n",
       "10289    51.0\n",
       "9159     51.0\n",
       "9384     51.0\n",
       "9158     51.0\n",
       "10290    51.0\n",
       "10291    51.0\n",
       "10345    51.0\n",
       "10280    51.0\n",
       "10279    51.0\n",
       "10278    51.0\n",
       "10264    51.0\n",
       "Name: hp_kW, dtype: float64"
      ]
     },
     "execution_count": 60,
     "metadata": {},
     "output_type": "execute_result"
    }
   ],
   "source": [
    "df.hp_kW.sort_values().head(50)"
   ]
  },
  {
   "cell_type": "code",
   "execution_count": 61,
   "id": "84536d45",
   "metadata": {},
   "outputs": [
    {
     "data": {
      "text/plain": [
       "array([ 66., 141.,  85.,  70.,  92., 112.,  60.,  71.,  67., 110.,  93.,\n",
       "       147.,  86., 140.,  87.,  81.,  82., 135., 132., 100.,  96., 162.,\n",
       "       150., 294., 228., 270., 137.,   9., 133.,  77., 101.,  78., 103.,\n",
       "         1.,  74., 118.,  84.,  88.,  80.,  76., 149.,  51.,  44.,  55.,\n",
       "        52.,  63.,  40.,  65.,  75., 125., 120., 184., 239., 121., 143.,\n",
       "       191.,  89., 195., 127., 122., 154., 155., 104., 123., 146.,  90.,\n",
       "        56.,  53.,  54., 164.,   4., 163.,  57., 119., 165., 117., 115.,\n",
       "        98., 168., 167.])"
      ]
     },
     "execution_count": 61,
     "metadata": {},
     "output_type": "execute_result"
    }
   ],
   "source": [
    "df.hp_kW.unique()"
   ]
  },
  {
   "cell_type": "code",
   "execution_count": 62,
   "id": "8b07b185",
   "metadata": {},
   "outputs": [
    {
     "name": "stderr",
     "output_type": "stream",
     "text": [
      "C:\\Users\\fattm\\AppData\\Local\\Temp\\ipykernel_15900\\3345655671.py:1: SettingWithCopyWarning: \n",
      "A value is trying to be set on a copy of a slice from a DataFrame\n",
      "\n",
      "See the caveats in the documentation: https://pandas.pydata.org/pandas-docs/stable/user_guide/indexing.html#returning-a-view-versus-a-copy\n",
      "  df.hp_kW.loc[df.hp_kW < 40] = np.nan\n"
     ]
    }
   ],
   "source": [
    "df.hp_kW.loc[df.hp_kW < 40] = np.nan"
   ]
  },
  {
   "cell_type": "code",
   "execution_count": 63,
   "id": "fd41c9d3",
   "metadata": {},
   "outputs": [
    {
     "data": {
      "text/plain": [
       "22"
      ]
     },
     "execution_count": 63,
     "metadata": {},
     "output_type": "execute_result"
    }
   ],
   "source": [
    "df.hp_kW.isnull().sum()"
   ]
  },
  {
   "cell_type": "code",
   "execution_count": 64,
   "id": "37366bad",
   "metadata": {},
   "outputs": [
    {
     "name": "stdout",
     "output_type": "stream",
     "text": [
      "Number of NaN :  0\n",
      "------------------\n",
      "85.0     2544\n",
      "66.0     2124\n",
      "81.0     1403\n",
      "100.0    1317\n",
      "110.0    1117\n",
      "         ... \n",
      "75.0        1\n",
      "132.0       1\n",
      "115.0       1\n",
      "195.0       1\n",
      "133.0       1\n",
      "Name: hp_kW, Length: 77, dtype: int64\n"
     ]
    }
   ],
   "source": [
    "fill(df, \"make_model\", \"body_type\", \"hp_kW\", \"mode\")"
   ]
  },
  {
   "cell_type": "code",
   "execution_count": 65,
   "id": "2dae8bed",
   "metadata": {},
   "outputs": [
    {
     "data": {
      "image/png": "[encoded data removed]",
      "text/plain": [
       "<Figure size 720x432 with 2 Axes>"
      ]
     },
     "metadata": {
      "needs_background": "light"
     },
     "output_type": "display_data"
    }
   ],
   "source": [
    "plt.figure(figsize=(10,6))\n",
    "\n",
    "plt.subplot(121)\n",
    "plt.hist(df.hp_kW, bins=15)\n",
    "\n",
    "plt.subplot(122)\n",
    "plt.boxplot(df.hp_kW, whis=2.5)\n",
    "\n",
    "plt.show()"
   ]
  },
  {
   "cell_type": "code",
   "execution_count": 66,
   "id": "0ee28a66",
   "metadata": {},
   "outputs": [
    {
     "data": {
      "image/png": "[encoded data removed]",
      "text/plain": [
       "<Figure size 720x432 with 2 Axes>"
      ]
     },
     "metadata": {
      "needs_background": "light"
     },
     "output_type": "display_data"
    }
   ],
   "source": [
    "plt.figure(figsize=(10,6))\n",
    "\n",
    "plt.subplot(121)\n",
    "plt.hist(np.log(df.hp_kW), bins=15)\n",
    "\n",
    "plt.subplot(122)\n",
    "plt.boxplot(np.log(df.hp_kW), whis=2.5)\n",
    "\n",
    "plt.show()"
   ]
  },
  {
   "cell_type": "code",
   "execution_count": 67,
   "id": "c5342a4e",
   "metadata": {},
   "outputs": [
    {
     "data": {
      "text/plain": [
       "count    15919.000000\n",
       "mean       110.671750\n",
       "std         33.843841\n",
       "min          0.000000\n",
       "25%        104.000000\n",
       "50%        116.000000\n",
       "75%        128.000000\n",
       "max        990.000000\n",
       "Name: CO2_Emission, dtype: float64"
      ]
     },
     "execution_count": 67,
     "metadata": {},
     "output_type": "execute_result"
    }
   ],
   "source": [
    "df.CO2_Emission.describe()"
   ]
  },
  {
   "cell_type": "code",
   "execution_count": 68,
   "id": "9b012191",
   "metadata": {},
   "outputs": [
    {
     "data": {
      "text/plain": [
       "0.00       2\n",
       "1.00      84\n",
       "1.06       1\n",
       "5.00       3\n",
       "8.00      25\n",
       "          ..\n",
       "199.00     2\n",
       "239.00     1\n",
       "253.00     1\n",
       "331.00     1\n",
       "990.00     1\n",
       "Name: CO2_Emission, Length: 123, dtype: int64"
      ]
     },
     "execution_count": 68,
     "metadata": {},
     "output_type": "execute_result"
    }
   ],
   "source": [
    "df.CO2_Emission.value_counts().sort_index()"
   ]
  },
  {
   "cell_type": "code",
   "execution_count": 69,
   "id": "b6f23302",
   "metadata": {},
   "outputs": [
    {
     "data": {
      "text/html": [
       "<div>\n",
       "<style scoped>\n",
       "    .dataframe tbody tr th:only-of-type {\n",
       "        vertical-align: middle;\n",
       "    }\n",
       "\n",
       "    .dataframe tbody tr th {\n",
       "        vertical-align: top;\n",
       "    }\n",
       "\n",
       "    .dataframe thead th {\n",
       "        text-align: right;\n",
       "    }\n",
       "</style>\n",
       "<table border=\"1\" class=\"dataframe\">\n",
       "  <thead>\n",
       "    <tr style=\"text-align: right;\">\n",
       "      <th></th>\n",
       "      <th></th>\n",
       "      <th></th>\n",
       "      <th>count</th>\n",
       "      <th>mean</th>\n",
       "      <th>std</th>\n",
       "      <th>min</th>\n",
       "      <th>25%</th>\n",
       "      <th>50%</th>\n",
       "      <th>75%</th>\n",
       "      <th>max</th>\n",
       "    </tr>\n",
       "    <tr>\n",
       "      <th>make_model</th>\n",
       "      <th>body_type</th>\n",
       "      <th>CO2_Emission</th>\n",
       "      <th></th>\n",
       "      <th></th>\n",
       "      <th></th>\n",
       "      <th></th>\n",
       "      <th></th>\n",
       "      <th></th>\n",
       "      <th></th>\n",
       "      <th></th>\n",
       "    </tr>\n",
       "  </thead>\n",
       "  <tbody>\n",
       "    <tr>\n",
       "      <th rowspan=\"5\" valign=\"top\">Audi A1</th>\n",
       "      <th rowspan=\"5\" valign=\"top\">Compact</th>\n",
       "      <th>1.0</th>\n",
       "      <td>1.0</td>\n",
       "      <td>20881.000000</td>\n",
       "      <td>NaN</td>\n",
       "      <td>20881.0</td>\n",
       "      <td>20881.0</td>\n",
       "      <td>20881.0</td>\n",
       "      <td>20881.00</td>\n",
       "      <td>20881.0</td>\n",
       "    </tr>\n",
       "    <tr>\n",
       "      <th>9.0</th>\n",
       "      <td>1.0</td>\n",
       "      <td>12479.000000</td>\n",
       "      <td>NaN</td>\n",
       "      <td>12479.0</td>\n",
       "      <td>12479.0</td>\n",
       "      <td>12479.0</td>\n",
       "      <td>12479.00</td>\n",
       "      <td>12479.0</td>\n",
       "    </tr>\n",
       "    <tr>\n",
       "      <th>10.0</th>\n",
       "      <td>147.0</td>\n",
       "      <td>16946.870748</td>\n",
       "      <td>2850.063119</td>\n",
       "      <td>9950.0</td>\n",
       "      <td>15765.0</td>\n",
       "      <td>16450.0</td>\n",
       "      <td>18333.00</td>\n",
       "      <td>29150.0</td>\n",
       "    </tr>\n",
       "    <tr>\n",
       "      <th>11.0</th>\n",
       "      <td>25.0</td>\n",
       "      <td>19960.360000</td>\n",
       "      <td>2676.261601</td>\n",
       "      <td>14930.0</td>\n",
       "      <td>17970.0</td>\n",
       "      <td>19990.0</td>\n",
       "      <td>21460.00</td>\n",
       "      <td>28980.0</td>\n",
       "    </tr>\n",
       "    <tr>\n",
       "      <th>14.0</th>\n",
       "      <td>2.0</td>\n",
       "      <td>28750.000000</td>\n",
       "      <td>268.700577</td>\n",
       "      <td>28560.0</td>\n",
       "      <td>28655.0</td>\n",
       "      <td>28750.0</td>\n",
       "      <td>28845.00</td>\n",
       "      <td>28940.0</td>\n",
       "    </tr>\n",
       "    <tr>\n",
       "      <th>...</th>\n",
       "      <th>...</th>\n",
       "      <th>...</th>\n",
       "      <td>...</td>\n",
       "      <td>...</td>\n",
       "      <td>...</td>\n",
       "      <td>...</td>\n",
       "      <td>...</td>\n",
       "      <td>...</td>\n",
       "      <td>...</td>\n",
       "      <td>...</td>\n",
       "    </tr>\n",
       "    <tr>\n",
       "      <th rowspan=\"5\" valign=\"top\">Renault Espace</th>\n",
       "      <th rowspan=\"5\" valign=\"top\">Van</th>\n",
       "      <th>175.0</th>\n",
       "      <td>6.0</td>\n",
       "      <td>36931.666667</td>\n",
       "      <td>2811.670867</td>\n",
       "      <td>33781.0</td>\n",
       "      <td>35630.0</td>\n",
       "      <td>35830.0</td>\n",
       "      <td>38286.75</td>\n",
       "      <td>41480.0</td>\n",
       "    </tr>\n",
       "    <tr>\n",
       "      <th>188.0</th>\n",
       "      <td>1.0</td>\n",
       "      <td>43080.000000</td>\n",
       "      <td>NaN</td>\n",
       "      <td>43080.0</td>\n",
       "      <td>43080.0</td>\n",
       "      <td>43080.0</td>\n",
       "      <td>43080.00</td>\n",
       "      <td>43080.0</td>\n",
       "    </tr>\n",
       "    <tr>\n",
       "      <th>191.0</th>\n",
       "      <td>2.0</td>\n",
       "      <td>28465.000000</td>\n",
       "      <td>0.000000</td>\n",
       "      <td>28465.0</td>\n",
       "      <td>28465.0</td>\n",
       "      <td>28465.0</td>\n",
       "      <td>28465.00</td>\n",
       "      <td>28465.0</td>\n",
       "    </tr>\n",
       "    <tr>\n",
       "      <th>193.0</th>\n",
       "      <td>1.0</td>\n",
       "      <td>38990.000000</td>\n",
       "      <td>NaN</td>\n",
       "      <td>38990.0</td>\n",
       "      <td>38990.0</td>\n",
       "      <td>38990.0</td>\n",
       "      <td>38990.00</td>\n",
       "      <td>38990.0</td>\n",
       "    </tr>\n",
       "    <tr>\n",
       "      <th>194.0</th>\n",
       "      <td>1.0</td>\n",
       "      <td>46490.000000</td>\n",
       "      <td>NaN</td>\n",
       "      <td>46490.0</td>\n",
       "      <td>46490.0</td>\n",
       "      <td>46490.0</td>\n",
       "      <td>46490.00</td>\n",
       "      <td>46490.0</td>\n",
       "    </tr>\n",
       "  </tbody>\n",
       "</table>\n",
       "<p>733 rows × 8 columns</p>\n",
       "</div>"
      ],
      "text/plain": [
       "                                       count          mean          std  \\\n",
       "make_model     body_type CO2_Emission                                     \n",
       "Audi A1        Compact   1.0             1.0  20881.000000          NaN   \n",
       "                         9.0             1.0  12479.000000          NaN   \n",
       "                         10.0          147.0  16946.870748  2850.063119   \n",
       "                         11.0           25.0  19960.360000  2676.261601   \n",
       "                         14.0            2.0  28750.000000   268.700577   \n",
       "...                                      ...           ...          ...   \n",
       "Renault Espace Van       175.0           6.0  36931.666667  2811.670867   \n",
       "                         188.0           1.0  43080.000000          NaN   \n",
       "                         191.0           2.0  28465.000000     0.000000   \n",
       "                         193.0           1.0  38990.000000          NaN   \n",
       "                         194.0           1.0  46490.000000          NaN   \n",
       "\n",
       "                                           min      25%      50%       75%  \\\n",
       "make_model     body_type CO2_Emission                                        \n",
       "Audi A1        Compact   1.0           20881.0  20881.0  20881.0  20881.00   \n",
       "                         9.0           12479.0  12479.0  12479.0  12479.00   \n",
       "                         10.0           9950.0  15765.0  16450.0  18333.00   \n",
       "                         11.0          14930.0  17970.0  19990.0  21460.00   \n",
       "                         14.0          28560.0  28655.0  28750.0  28845.00   \n",
       "...                                        ...      ...      ...       ...   \n",
       "Renault Espace Van       175.0         33781.0  35630.0  35830.0  38286.75   \n",
       "                         188.0         43080.0  43080.0  43080.0  43080.00   \n",
       "                         191.0         28465.0  28465.0  28465.0  28465.00   \n",
       "                         193.0         38990.0  38990.0  38990.0  38990.00   \n",
       "                         194.0         46490.0  46490.0  46490.0  46490.00   \n",
       "\n",
       "                                           max  \n",
       "make_model     body_type CO2_Emission           \n",
       "Audi A1        Compact   1.0           20881.0  \n",
       "                         9.0           12479.0  \n",
       "                         10.0          29150.0  \n",
       "                         11.0          28980.0  \n",
       "                         14.0          28940.0  \n",
       "...                                        ...  \n",
       "Renault Espace Van       175.0         41480.0  \n",
       "                         188.0         43080.0  \n",
       "                         191.0         28465.0  \n",
       "                         193.0         38990.0  \n",
       "                         194.0         46490.0  \n",
       "\n",
       "[733 rows x 8 columns]"
      ]
     },
     "execution_count": 69,
     "metadata": {},
     "output_type": "execute_result"
    }
   ],
   "source": [
    "df.groupby([\"make_model\", \"body_type\",\"CO2_Emission\"]).price.describe()"
   ]
  },
  {
   "cell_type": "code",
   "execution_count": 70,
   "id": "163bc611",
   "metadata": {},
   "outputs": [],
   "source": [
    "cond = ((df.CO2_Emission < 52) | (df.CO2_Emission > 330))\n",
    "df.loc[cond, \"CO2_Emission\"] = np.nan"
   ]
  },
  {
   "cell_type": "code",
   "execution_count": 71,
   "id": "8d751dd3",
   "metadata": {},
   "outputs": [
    {
     "data": {
      "text/plain": [
       "1188"
      ]
     },
     "execution_count": 71,
     "metadata": {},
     "output_type": "execute_result"
    }
   ],
   "source": [
    "df.CO2_Emission.isnull().sum()"
   ]
  },
  {
   "cell_type": "code",
   "execution_count": 72,
   "id": "a6c9c053",
   "metadata": {},
   "outputs": [
    {
     "name": "stdout",
     "output_type": "stream",
     "text": [
      "Number of NaN :  0\n",
      "------------------\n",
      "120.0    842\n",
      "99.0     828\n",
      "106.0    756\n",
      "104.0    681\n",
      "139.0    633\n",
      "        ... \n",
      "190.0      1\n",
      "160.0      1\n",
      "80.0       1\n",
      "253.0      1\n",
      "193.0      1\n",
      "Name: CO2_Emission, Length: 101, dtype: int64\n"
     ]
    }
   ],
   "source": [
    "fill(df, \"make_model\", \"body_type\", \"CO2_Emission\", \"median\")"
   ]
  },
  {
   "cell_type": "code",
   "execution_count": 73,
   "id": "2389a072",
   "metadata": {},
   "outputs": [
    {
     "data": {
      "image/png": "[encoded data removed]",
      "text/plain": [
       "<Figure size 720x432 with 2 Axes>"
      ]
     },
     "metadata": {
      "needs_background": "light"
     },
     "output_type": "display_data"
    }
   ],
   "source": [
    "plt.figure(figsize=(10,6))\n",
    "\n",
    "plt.subplot(121)\n",
    "plt.hist(df.CO2_Emission, bins=15)\n",
    "\n",
    "plt.subplot(122)\n",
    "plt.boxplot(df.CO2_Emission, whis=2.5)\n",
    "\n",
    "plt.show()"
   ]
  },
  {
   "cell_type": "code",
   "execution_count": 74,
   "id": "4ea9d6c1",
   "metadata": {},
   "outputs": [
    {
     "data": {
      "image/png": "[encoded data removed]",
      "text/plain": [
       "<Figure size 720x432 with 2 Axes>"
      ]
     },
     "metadata": {
      "needs_background": "light"
     },
     "output_type": "display_data"
    }
   ],
   "source": [
    "plt.figure(figsize=(10,6))\n",
    "\n",
    "plt.subplot(121)\n",
    "plt.hist(np.log(df.CO2_Emission), bins=15)\n",
    "\n",
    "plt.subplot(122)\n",
    "plt.boxplot(np.log(df.CO2_Emission), whis=2.5)\n",
    "\n",
    "plt.show()"
   ]
  },
  {
   "cell_type": "code",
   "execution_count": 75,
   "id": "dcccbe74",
   "metadata": {},
   "outputs": [
    {
     "data": {
      "text/plain": [
       "count    15919.000000\n",
       "mean     18019.896727\n",
       "std       7386.169409\n",
       "min         13.000000\n",
       "25%      12850.000000\n",
       "50%      16900.000000\n",
       "75%      21900.000000\n",
       "max      74600.000000\n",
       "Name: price, dtype: float64"
      ]
     },
     "execution_count": 75,
     "metadata": {},
     "output_type": "execute_result"
    }
   ],
   "source": [
    "df.price.describe()"
   ]
  },
  {
   "cell_type": "code",
   "execution_count": 76,
   "id": "45eedb37",
   "metadata": {},
   "outputs": [
    {
     "data": {
      "text/plain": [
       "8594      13\n",
       "8828     120\n",
       "6066     255\n",
       "8829     331\n",
       "8827    4950\n",
       "Name: price, dtype: int64"
      ]
     },
     "execution_count": 76,
     "metadata": {},
     "output_type": "execute_result"
    }
   ],
   "source": [
    "df.price.sort_values().head(5)"
   ]
  },
  {
   "cell_type": "code",
   "execution_count": 77,
   "id": "79d4b75a",
   "metadata": {},
   "outputs": [],
   "source": [
    "df.drop(index = [8594, 8828, 6066,8829], axis = 0, inplace = True)"
   ]
  },
  {
   "cell_type": "code",
   "execution_count": 78,
   "id": "7298d382",
   "metadata": {},
   "outputs": [],
   "source": [
    "df.reset_index(drop = True, inplace = True)"
   ]
  },
  {
   "cell_type": "code",
   "execution_count": 79,
   "id": "9362464c",
   "metadata": {},
   "outputs": [
    {
     "data": {
      "text/plain": [
       "(15915, 24)"
      ]
     },
     "execution_count": 79,
     "metadata": {},
     "output_type": "execute_result"
    }
   ],
   "source": [
    "df.shape"
   ]
  },
  {
   "cell_type": "code",
   "execution_count": 80,
   "id": "622f0adc",
   "metadata": {},
   "outputs": [
    {
     "data": {
      "image/png": "[encoded data removed]",
      "text/plain": [
       "<Figure size 720x432 with 2 Axes>"
      ]
     },
     "metadata": {
      "needs_background": "light"
     },
     "output_type": "display_data"
    }
   ],
   "source": [
    "plt.figure(figsize=(10,6))\n",
    "plt.subplot(121)\n",
    "plt.hist(df.price, bins=20)\n",
    "\n",
    "plt.subplot(122)\n",
    "plt.boxplot(df.price, whis=3)\n",
    "\n",
    "plt.show()"
   ]
  },
  {
   "cell_type": "code",
   "execution_count": 81,
   "id": "7cc933e9",
   "metadata": {},
   "outputs": [
    {
     "data": {
      "image/png": "[encoded data removed]",
      "text/plain": [
       "<Figure size 720x432 with 2 Axes>"
      ]
     },
     "metadata": {
      "needs_background": "light"
     },
     "output_type": "display_data"
    }
   ],
   "source": [
    "plt.figure(figsize=(10,6))\n",
    "plt.subplot(121)\n",
    "plt.hist(np.log(df.price), bins=20)\n",
    "\n",
    "plt.subplot(122)\n",
    "plt.boxplot(np.log(df.price), whis=2.3)\n",
    "\n",
    "plt.show()"
   ]
  },
  {
   "cell_type": "code",
   "execution_count": 82,
   "id": "078f3ca7",
   "metadata": {},
   "outputs": [
    {
     "data": {
      "image/png": "[encoded data removed]",
      "text/plain": [
       "<Figure size 1152x432 with 1 Axes>"
      ]
     },
     "metadata": {
      "needs_background": "light"
     },
     "output_type": "display_data"
    }
   ],
   "source": [
    "plt.figure(figsize=(16,6))\n",
    "sns.boxplot(x=\"make_model\", y=\"price\", data=df, whis=2.3)\n",
    "plt.show()"
   ]
  },
  {
   "cell_type": "code",
   "execution_count": 83,
   "id": "b028ae66",
   "metadata": {},
   "outputs": [
    {
     "data": {
      "image/png": "[encoded data removed]",
      "text/plain": [
       "<Figure size 1152x432 with 1 Axes>"
      ]
     },
     "metadata": {
      "needs_background": "light"
     },
     "output_type": "display_data"
    }
   ],
   "source": [
    "plt.figure(figsize=(16,6))\n",
    "sns.boxplot(x=\"make_model\", y=np.log(df.price), data=df, whis=2.3)\n",
    "plt.show()"
   ]
  },
  {
   "cell_type": "code",
   "execution_count": 84,
   "id": "9402b05e",
   "metadata": {},
   "outputs": [
    {
     "data": {
      "text/html": [
       "<div>\n",
       "<style scoped>\n",
       "    .dataframe tbody tr th:only-of-type {\n",
       "        vertical-align: middle;\n",
       "    }\n",
       "\n",
       "    .dataframe tbody tr th {\n",
       "        vertical-align: top;\n",
       "    }\n",
       "\n",
       "    .dataframe thead th {\n",
       "        text-align: right;\n",
       "    }\n",
       "</style>\n",
       "<table border=\"1\" class=\"dataframe\">\n",
       "  <thead>\n",
       "    <tr style=\"text-align: right;\">\n",
       "      <th></th>\n",
       "      <th>make_model</th>\n",
       "      <th>body_type</th>\n",
       "      <th>price</th>\n",
       "      <th>vat</th>\n",
       "      <th>km</th>\n",
       "      <th>Type</th>\n",
       "      <th>Fuel</th>\n",
       "      <th>Gears</th>\n",
       "      <th>Comfort_Convenience</th>\n",
       "      <th>Entertainment_Media</th>\n",
       "      <th>...</th>\n",
       "      <th>hp_kW</th>\n",
       "      <th>Inspection_new</th>\n",
       "      <th>Paint_Type</th>\n",
       "      <th>Upholstery_type</th>\n",
       "      <th>Gearing_Type</th>\n",
       "      <th>Displacement_cc</th>\n",
       "      <th>Weight_kg</th>\n",
       "      <th>Drive_chain</th>\n",
       "      <th>cons_comb</th>\n",
       "      <th>CO2_Emission</th>\n",
       "    </tr>\n",
       "  </thead>\n",
       "  <tbody>\n",
       "    <tr>\n",
       "      <th>2614</th>\n",
       "      <td>Audi A2</td>\n",
       "      <td>Off-Road</td>\n",
       "      <td>28200</td>\n",
       "      <td>VAT deductible</td>\n",
       "      <td>26166.0</td>\n",
       "      <td>Employee's car</td>\n",
       "      <td>Diesel</td>\n",
       "      <td>6.0</td>\n",
       "      <td>Air conditioning,Armrest,Automatic climate con...</td>\n",
       "      <td>Bluetooth,CD player,Hands-free equipment,MP3,O...</td>\n",
       "      <td>...</td>\n",
       "      <td>85.0</td>\n",
       "      <td>0</td>\n",
       "      <td>Metallic</td>\n",
       "      <td>Cloth</td>\n",
       "      <td>Manual</td>\n",
       "      <td>1598.0</td>\n",
       "      <td>1135.0</td>\n",
       "      <td>front</td>\n",
       "      <td>4.9</td>\n",
       "      <td>114.0</td>\n",
       "    </tr>\n",
       "  </tbody>\n",
       "</table>\n",
       "<p>1 rows × 24 columns</p>\n",
       "</div>"
      ],
      "text/plain": [
       "     make_model body_type  price             vat       km            Type  \\\n",
       "2614    Audi A2  Off-Road  28200  VAT deductible  26166.0  Employee's car   \n",
       "\n",
       "        Fuel  Gears                                Comfort_Convenience  \\\n",
       "2614  Diesel    6.0  Air conditioning,Armrest,Automatic climate con...   \n",
       "\n",
       "                                    Entertainment_Media  ... hp_kW  \\\n",
       "2614  Bluetooth,CD player,Hands-free equipment,MP3,O...  ...  85.0   \n",
       "\n",
       "     Inspection_new  Paint_Type  Upholstery_type  Gearing_Type  \\\n",
       "2614              0    Metallic            Cloth        Manual   \n",
       "\n",
       "      Displacement_cc Weight_kg Drive_chain cons_comb  CO2_Emission  \n",
       "2614           1598.0    1135.0       front       4.9         114.0  \n",
       "\n",
       "[1 rows x 24 columns]"
      ]
     },
     "execution_count": 84,
     "metadata": {},
     "output_type": "execute_result"
    }
   ],
   "source": [
    "df[df.make_model==\"Audi A2\"]"
   ]
  },
  {
   "cell_type": "code",
   "execution_count": 85,
   "id": "2ae874da",
   "metadata": {},
   "outputs": [],
   "source": [
    "df.drop(index = [2614], inplace = True)"
   ]
  },
  {
   "cell_type": "code",
   "execution_count": 86,
   "id": "21176aab",
   "metadata": {},
   "outputs": [],
   "source": [
    "df.reset_index(drop = True, inplace = True)"
   ]
  },
  {
   "cell_type": "code",
   "execution_count": 87,
   "id": "f4c7219f",
   "metadata": {},
   "outputs": [
    {
     "data": {
      "text/plain": [
       "(15914, 24)"
      ]
     },
     "execution_count": 87,
     "metadata": {},
     "output_type": "execute_result"
    }
   ],
   "source": [
    "df.shape"
   ]
  },
  {
   "cell_type": "code",
   "execution_count": 88,
   "id": "5edd9e04",
   "metadata": {},
   "outputs": [
    {
     "data": {
      "text/html": [
       "<div>\n",
       "<style scoped>\n",
       "    .dataframe tbody tr th:only-of-type {\n",
       "        vertical-align: middle;\n",
       "    }\n",
       "\n",
       "    .dataframe tbody tr th {\n",
       "        vertical-align: top;\n",
       "    }\n",
       "\n",
       "    .dataframe thead th {\n",
       "        text-align: right;\n",
       "    }\n",
       "</style>\n",
       "<table border=\"1\" class=\"dataframe\">\n",
       "  <thead>\n",
       "    <tr style=\"text-align: right;\">\n",
       "      <th></th>\n",
       "      <th>0</th>\n",
       "      <th>1</th>\n",
       "      <th>2</th>\n",
       "    </tr>\n",
       "  </thead>\n",
       "  <tbody>\n",
       "    <tr>\n",
       "      <th>make_model</th>\n",
       "      <td>Audi A1</td>\n",
       "      <td>Audi A1</td>\n",
       "      <td>Audi A1</td>\n",
       "    </tr>\n",
       "    <tr>\n",
       "      <th>body_type</th>\n",
       "      <td>Sedans</td>\n",
       "      <td>Sedans</td>\n",
       "      <td>Sedans</td>\n",
       "    </tr>\n",
       "    <tr>\n",
       "      <th>price</th>\n",
       "      <td>15770</td>\n",
       "      <td>14500</td>\n",
       "      <td>14640</td>\n",
       "    </tr>\n",
       "    <tr>\n",
       "      <th>vat</th>\n",
       "      <td>VAT deductible</td>\n",
       "      <td>Price negotiable</td>\n",
       "      <td>VAT deductible</td>\n",
       "    </tr>\n",
       "    <tr>\n",
       "      <th>km</th>\n",
       "      <td>56013.0</td>\n",
       "      <td>80000.0</td>\n",
       "      <td>83450.0</td>\n",
       "    </tr>\n",
       "    <tr>\n",
       "      <th>Type</th>\n",
       "      <td>Used</td>\n",
       "      <td>Used</td>\n",
       "      <td>Used</td>\n",
       "    </tr>\n",
       "    <tr>\n",
       "      <th>Fuel</th>\n",
       "      <td>Diesel</td>\n",
       "      <td>Benzine</td>\n",
       "      <td>Diesel</td>\n",
       "    </tr>\n",
       "    <tr>\n",
       "      <th>Gears</th>\n",
       "      <td>7.0</td>\n",
       "      <td>7.0</td>\n",
       "      <td>7.0</td>\n",
       "    </tr>\n",
       "    <tr>\n",
       "      <th>Comfort_Convenience</th>\n",
       "      <td>Air conditioning,Armrest,Automatic climate con...</td>\n",
       "      <td>Air conditioning,Automatic climate control,Hil...</td>\n",
       "      <td>Air conditioning,Cruise control,Electrical sid...</td>\n",
       "    </tr>\n",
       "    <tr>\n",
       "      <th>Entertainment_Media</th>\n",
       "      <td>Bluetooth,Hands-free equipment,On-board comput...</td>\n",
       "      <td>Bluetooth,Hands-free equipment,On-board comput...</td>\n",
       "      <td>MP3,On-board computer</td>\n",
       "    </tr>\n",
       "    <tr>\n",
       "      <th>Extras</th>\n",
       "      <td>Alloy wheels,Catalytic Converter,Voice Control</td>\n",
       "      <td>Alloy wheels,Sport seats,Sport suspension,Voic...</td>\n",
       "      <td>Alloy wheels,Voice Control</td>\n",
       "    </tr>\n",
       "    <tr>\n",
       "      <th>Safety_Security</th>\n",
       "      <td>ABS,Central door lock,Daytime running lights,D...</td>\n",
       "      <td>ABS,Central door lock,Central door lock with r...</td>\n",
       "      <td>ABS,Central door lock,Daytime running lights,D...</td>\n",
       "    </tr>\n",
       "    <tr>\n",
       "      <th>age</th>\n",
       "      <td>3.0</td>\n",
       "      <td>2.0</td>\n",
       "      <td>3.0</td>\n",
       "    </tr>\n",
       "    <tr>\n",
       "      <th>Previous_Owners</th>\n",
       "      <td>2.0</td>\n",
       "      <td>1.0</td>\n",
       "      <td>1.0</td>\n",
       "    </tr>\n",
       "    <tr>\n",
       "      <th>hp_kW</th>\n",
       "      <td>66.0</td>\n",
       "      <td>141.0</td>\n",
       "      <td>85.0</td>\n",
       "    </tr>\n",
       "    <tr>\n",
       "      <th>Inspection_new</th>\n",
       "      <td>1</td>\n",
       "      <td>0</td>\n",
       "      <td>0</td>\n",
       "    </tr>\n",
       "    <tr>\n",
       "      <th>Paint_Type</th>\n",
       "      <td>Metallic</td>\n",
       "      <td>Metallic</td>\n",
       "      <td>Metallic</td>\n",
       "    </tr>\n",
       "    <tr>\n",
       "      <th>Upholstery_type</th>\n",
       "      <td>Cloth</td>\n",
       "      <td>Cloth</td>\n",
       "      <td>Cloth</td>\n",
       "    </tr>\n",
       "    <tr>\n",
       "      <th>Gearing_Type</th>\n",
       "      <td>Automatic</td>\n",
       "      <td>Automatic</td>\n",
       "      <td>Automatic</td>\n",
       "    </tr>\n",
       "    <tr>\n",
       "      <th>Displacement_cc</th>\n",
       "      <td>1422.0</td>\n",
       "      <td>1798.0</td>\n",
       "      <td>1598.0</td>\n",
       "    </tr>\n",
       "    <tr>\n",
       "      <th>Weight_kg</th>\n",
       "      <td>1220.0</td>\n",
       "      <td>1255.0</td>\n",
       "      <td>1135.0</td>\n",
       "    </tr>\n",
       "    <tr>\n",
       "      <th>Drive_chain</th>\n",
       "      <td>front</td>\n",
       "      <td>front</td>\n",
       "      <td>front</td>\n",
       "    </tr>\n",
       "    <tr>\n",
       "      <th>cons_comb</th>\n",
       "      <td>3.8</td>\n",
       "      <td>5.6</td>\n",
       "      <td>3.8</td>\n",
       "    </tr>\n",
       "    <tr>\n",
       "      <th>CO2_Emission</th>\n",
       "      <td>99.0</td>\n",
       "      <td>129.0</td>\n",
       "      <td>99.0</td>\n",
       "    </tr>\n",
       "  </tbody>\n",
       "</table>\n",
       "</div>"
      ],
      "text/plain": [
       "                                                                     0  \\\n",
       "make_model                                                     Audi A1   \n",
       "body_type                                                       Sedans   \n",
       "price                                                            15770   \n",
       "vat                                                     VAT deductible   \n",
       "km                                                             56013.0   \n",
       "Type                                                              Used   \n",
       "Fuel                                                            Diesel   \n",
       "Gears                                                              7.0   \n",
       "Comfort_Convenience  Air conditioning,Armrest,Automatic climate con...   \n",
       "Entertainment_Media  Bluetooth,Hands-free equipment,On-board comput...   \n",
       "Extras                  Alloy wheels,Catalytic Converter,Voice Control   \n",
       "Safety_Security      ABS,Central door lock,Daytime running lights,D...   \n",
       "age                                                                3.0   \n",
       "Previous_Owners                                                    2.0   \n",
       "hp_kW                                                             66.0   \n",
       "Inspection_new                                                       1   \n",
       "Paint_Type                                                    Metallic   \n",
       "Upholstery_type                                                  Cloth   \n",
       "Gearing_Type                                                 Automatic   \n",
       "Displacement_cc                                                 1422.0   \n",
       "Weight_kg                                                       1220.0   \n",
       "Drive_chain                                                      front   \n",
       "cons_comb                                                          3.8   \n",
       "CO2_Emission                                                      99.0   \n",
       "\n",
       "                                                                     1  \\\n",
       "make_model                                                     Audi A1   \n",
       "body_type                                                       Sedans   \n",
       "price                                                            14500   \n",
       "vat                                                   Price negotiable   \n",
       "km                                                             80000.0   \n",
       "Type                                                              Used   \n",
       "Fuel                                                           Benzine   \n",
       "Gears                                                              7.0   \n",
       "Comfort_Convenience  Air conditioning,Automatic climate control,Hil...   \n",
       "Entertainment_Media  Bluetooth,Hands-free equipment,On-board comput...   \n",
       "Extras               Alloy wheels,Sport seats,Sport suspension,Voic...   \n",
       "Safety_Security      ABS,Central door lock,Central door lock with r...   \n",
       "age                                                                2.0   \n",
       "Previous_Owners                                                    1.0   \n",
       "hp_kW                                                            141.0   \n",
       "Inspection_new                                                       0   \n",
       "Paint_Type                                                    Metallic   \n",
       "Upholstery_type                                                  Cloth   \n",
       "Gearing_Type                                                 Automatic   \n",
       "Displacement_cc                                                 1798.0   \n",
       "Weight_kg                                                       1255.0   \n",
       "Drive_chain                                                      front   \n",
       "cons_comb                                                          5.6   \n",
       "CO2_Emission                                                     129.0   \n",
       "\n",
       "                                                                     2  \n",
       "make_model                                                     Audi A1  \n",
       "body_type                                                       Sedans  \n",
       "price                                                            14640  \n",
       "vat                                                     VAT deductible  \n",
       "km                                                             83450.0  \n",
       "Type                                                              Used  \n",
       "Fuel                                                            Diesel  \n",
       "Gears                                                              7.0  \n",
       "Comfort_Convenience  Air conditioning,Cruise control,Electrical sid...  \n",
       "Entertainment_Media                              MP3,On-board computer  \n",
       "Extras                                      Alloy wheels,Voice Control  \n",
       "Safety_Security      ABS,Central door lock,Daytime running lights,D...  \n",
       "age                                                                3.0  \n",
       "Previous_Owners                                                    1.0  \n",
       "hp_kW                                                             85.0  \n",
       "Inspection_new                                                       0  \n",
       "Paint_Type                                                    Metallic  \n",
       "Upholstery_type                                                  Cloth  \n",
       "Gearing_Type                                                 Automatic  \n",
       "Displacement_cc                                                 1598.0  \n",
       "Weight_kg                                                       1135.0  \n",
       "Drive_chain                                                      front  \n",
       "cons_comb                                                          3.8  \n",
       "CO2_Emission                                                      99.0  "
      ]
     },
     "execution_count": 88,
     "metadata": {},
     "output_type": "execute_result"
    }
   ],
   "source": [
    "df.head(3).T"
   ]
  },
  {
   "cell_type": "code",
   "execution_count": 89,
   "id": "85fbaeff",
   "metadata": {},
   "outputs": [],
   "source": [
    "numeric_col = \"price,km,Gears,Previous_Owners,cons_comb,Displacement_cc,age,hp_kW,Weight_kg,CO2_Emission\".split(\",\")"
   ]
  },
  {
   "cell_type": "code",
   "execution_count": 90,
   "id": "10a8610d",
   "metadata": {},
   "outputs": [],
   "source": [
    "df_num = df[numeric_col]"
   ]
  },
  {
   "cell_type": "code",
   "execution_count": 91,
   "id": "0ccf0e5e",
   "metadata": {},
   "outputs": [
    {
     "data": {
      "text/html": [
       "<div>\n",
       "<style scoped>\n",
       "    .dataframe tbody tr th:only-of-type {\n",
       "        vertical-align: middle;\n",
       "    }\n",
       "\n",
       "    .dataframe tbody tr th {\n",
       "        vertical-align: top;\n",
       "    }\n",
       "\n",
       "    .dataframe thead th {\n",
       "        text-align: right;\n",
       "    }\n",
       "</style>\n",
       "<table border=\"1\" class=\"dataframe\">\n",
       "  <thead>\n",
       "    <tr style=\"text-align: right;\">\n",
       "      <th></th>\n",
       "      <th>price</th>\n",
       "      <th>km</th>\n",
       "      <th>Gears</th>\n",
       "      <th>Previous_Owners</th>\n",
       "      <th>cons_comb</th>\n",
       "      <th>Displacement_cc</th>\n",
       "      <th>age</th>\n",
       "      <th>hp_kW</th>\n",
       "      <th>Weight_kg</th>\n",
       "      <th>CO2_Emission</th>\n",
       "    </tr>\n",
       "  </thead>\n",
       "  <tbody>\n",
       "    <tr>\n",
       "      <th>0</th>\n",
       "      <td>15770</td>\n",
       "      <td>56013.000000</td>\n",
       "      <td>7.0</td>\n",
       "      <td>2.0</td>\n",
       "      <td>3.8</td>\n",
       "      <td>1422.0</td>\n",
       "      <td>3.0</td>\n",
       "      <td>66.0</td>\n",
       "      <td>1220.0</td>\n",
       "      <td>99.0</td>\n",
       "    </tr>\n",
       "    <tr>\n",
       "      <th>1</th>\n",
       "      <td>14500</td>\n",
       "      <td>80000.000000</td>\n",
       "      <td>7.0</td>\n",
       "      <td>1.0</td>\n",
       "      <td>5.6</td>\n",
       "      <td>1798.0</td>\n",
       "      <td>2.0</td>\n",
       "      <td>141.0</td>\n",
       "      <td>1255.0</td>\n",
       "      <td>129.0</td>\n",
       "    </tr>\n",
       "    <tr>\n",
       "      <th>2</th>\n",
       "      <td>14640</td>\n",
       "      <td>83450.000000</td>\n",
       "      <td>7.0</td>\n",
       "      <td>1.0</td>\n",
       "      <td>3.8</td>\n",
       "      <td>1598.0</td>\n",
       "      <td>3.0</td>\n",
       "      <td>85.0</td>\n",
       "      <td>1135.0</td>\n",
       "      <td>99.0</td>\n",
       "    </tr>\n",
       "    <tr>\n",
       "      <th>3</th>\n",
       "      <td>14500</td>\n",
       "      <td>73000.000000</td>\n",
       "      <td>6.0</td>\n",
       "      <td>1.0</td>\n",
       "      <td>3.8</td>\n",
       "      <td>1422.0</td>\n",
       "      <td>3.0</td>\n",
       "      <td>66.0</td>\n",
       "      <td>1195.0</td>\n",
       "      <td>99.0</td>\n",
       "    </tr>\n",
       "    <tr>\n",
       "      <th>4</th>\n",
       "      <td>16790</td>\n",
       "      <td>16200.000000</td>\n",
       "      <td>7.0</td>\n",
       "      <td>1.0</td>\n",
       "      <td>4.1</td>\n",
       "      <td>1422.0</td>\n",
       "      <td>3.0</td>\n",
       "      <td>66.0</td>\n",
       "      <td>1135.0</td>\n",
       "      <td>109.0</td>\n",
       "    </tr>\n",
       "    <tr>\n",
       "      <th>...</th>\n",
       "      <td>...</td>\n",
       "      <td>...</td>\n",
       "      <td>...</td>\n",
       "      <td>...</td>\n",
       "      <td>...</td>\n",
       "      <td>...</td>\n",
       "      <td>...</td>\n",
       "      <td>...</td>\n",
       "      <td>...</td>\n",
       "      <td>...</td>\n",
       "    </tr>\n",
       "    <tr>\n",
       "      <th>15909</th>\n",
       "      <td>39950</td>\n",
       "      <td>1647.362609</td>\n",
       "      <td>6.0</td>\n",
       "      <td>1.0</td>\n",
       "      <td>5.3</td>\n",
       "      <td>1997.0</td>\n",
       "      <td>0.0</td>\n",
       "      <td>147.0</td>\n",
       "      <td>1758.0</td>\n",
       "      <td>139.0</td>\n",
       "    </tr>\n",
       "    <tr>\n",
       "      <th>15910</th>\n",
       "      <td>39885</td>\n",
       "      <td>9900.000000</td>\n",
       "      <td>7.0</td>\n",
       "      <td>1.0</td>\n",
       "      <td>7.4</td>\n",
       "      <td>1798.0</td>\n",
       "      <td>0.0</td>\n",
       "      <td>165.0</td>\n",
       "      <td>1708.0</td>\n",
       "      <td>168.0</td>\n",
       "    </tr>\n",
       "    <tr>\n",
       "      <th>15911</th>\n",
       "      <td>39875</td>\n",
       "      <td>15.000000</td>\n",
       "      <td>6.0</td>\n",
       "      <td>1.0</td>\n",
       "      <td>5.3</td>\n",
       "      <td>1997.0</td>\n",
       "      <td>0.0</td>\n",
       "      <td>146.0</td>\n",
       "      <td>1734.0</td>\n",
       "      <td>139.0</td>\n",
       "    </tr>\n",
       "    <tr>\n",
       "      <th>15912</th>\n",
       "      <td>39700</td>\n",
       "      <td>10.000000</td>\n",
       "      <td>6.0</td>\n",
       "      <td>1.0</td>\n",
       "      <td>5.3</td>\n",
       "      <td>1997.0</td>\n",
       "      <td>0.0</td>\n",
       "      <td>147.0</td>\n",
       "      <td>1758.0</td>\n",
       "      <td>139.0</td>\n",
       "    </tr>\n",
       "    <tr>\n",
       "      <th>15913</th>\n",
       "      <td>40999</td>\n",
       "      <td>1647.362609</td>\n",
       "      <td>6.0</td>\n",
       "      <td>1.0</td>\n",
       "      <td>6.8</td>\n",
       "      <td>1798.0</td>\n",
       "      <td>0.0</td>\n",
       "      <td>165.0</td>\n",
       "      <td>1685.0</td>\n",
       "      <td>153.0</td>\n",
       "    </tr>\n",
       "  </tbody>\n",
       "</table>\n",
       "<p>15914 rows × 10 columns</p>\n",
       "</div>"
      ],
      "text/plain": [
       "       price            km  Gears  Previous_Owners  cons_comb  \\\n",
       "0      15770  56013.000000    7.0              2.0        3.8   \n",
       "1      14500  80000.000000    7.0              1.0        5.6   \n",
       "2      14640  83450.000000    7.0              1.0        3.8   \n",
       "3      14500  73000.000000    6.0              1.0        3.8   \n",
       "4      16790  16200.000000    7.0              1.0        4.1   \n",
       "...      ...           ...    ...              ...        ...   \n",
       "15909  39950   1647.362609    6.0              1.0        5.3   \n",
       "15910  39885   9900.000000    7.0              1.0        7.4   \n",
       "15911  39875     15.000000    6.0              1.0        5.3   \n",
       "15912  39700     10.000000    6.0              1.0        5.3   \n",
       "15913  40999   1647.362609    6.0              1.0        6.8   \n",
       "\n",
       "       Displacement_cc  age  hp_kW  Weight_kg  CO2_Emission  \n",
       "0               1422.0  3.0   66.0     1220.0          99.0  \n",
       "1               1798.0  2.0  141.0     1255.0         129.0  \n",
       "2               1598.0  3.0   85.0     1135.0          99.0  \n",
       "3               1422.0  3.0   66.0     1195.0          99.0  \n",
       "4               1422.0  3.0   66.0     1135.0         109.0  \n",
       "...                ...  ...    ...        ...           ...  \n",
       "15909           1997.0  0.0  147.0     1758.0         139.0  \n",
       "15910           1798.0  0.0  165.0     1708.0         168.0  \n",
       "15911           1997.0  0.0  146.0     1734.0         139.0  \n",
       "15912           1997.0  0.0  147.0     1758.0         139.0  \n",
       "15913           1798.0  0.0  165.0     1685.0         153.0  \n",
       "\n",
       "[15914 rows x 10 columns]"
      ]
     },
     "execution_count": 91,
     "metadata": {},
     "output_type": "execute_result"
    }
   ],
   "source": [
    "df_num"
   ]
  },
  {
   "cell_type": "code",
   "execution_count": 92,
   "id": "6c539e17",
   "metadata": {},
   "outputs": [
    {
     "name": "stdout",
     "output_type": "stream",
     "text": [
      "<class 'pandas.core.frame.DataFrame'>\n",
      "RangeIndex: 15914 entries, 0 to 15913\n",
      "Data columns (total 24 columns):\n",
      " #   Column               Non-Null Count  Dtype  \n",
      "---  ------               --------------  -----  \n",
      " 0   make_model           15914 non-null  object \n",
      " 1   body_type            15914 non-null  object \n",
      " 2   price                15914 non-null  int64  \n",
      " 3   vat                  15914 non-null  object \n",
      " 4   km                   15914 non-null  float64\n",
      " 5   Type                 15914 non-null  object \n",
      " 6   Fuel                 15914 non-null  object \n",
      " 7   Gears                15914 non-null  float64\n",
      " 8   Comfort_Convenience  14994 non-null  object \n",
      " 9   Entertainment_Media  15914 non-null  object \n",
      " 10  Extras               15914 non-null  object \n",
      " 11  Safety_Security      15914 non-null  object \n",
      " 12  age                  15914 non-null  float64\n",
      " 13  Previous_Owners      15914 non-null  float64\n",
      " 14  hp_kW                15914 non-null  float64\n",
      " 15  Inspection_new       15914 non-null  int64  \n",
      " 16  Paint_Type           15914 non-null  object \n",
      " 17  Upholstery_type      15914 non-null  object \n",
      " 18  Gearing_Type         15914 non-null  object \n",
      " 19  Displacement_cc      15914 non-null  float64\n",
      " 20  Weight_kg            15914 non-null  float64\n",
      " 21  Drive_chain          15914 non-null  object \n",
      " 22  cons_comb            15914 non-null  float64\n",
      " 23  CO2_Emission         15914 non-null  float64\n",
      "dtypes: float64(9), int64(2), object(13)\n",
      "memory usage: 2.9+ MB\n"
     ]
    }
   ],
   "source": [
    "df.info()"
   ]
  },
  {
   "cell_type": "code",
   "execution_count": 93,
   "id": "eb94b1e6",
   "metadata": {},
   "outputs": [
    {
     "data": {
      "text/plain": [
       "(15914, 24)"
      ]
     },
     "execution_count": 93,
     "metadata": {},
     "output_type": "execute_result"
    }
   ],
   "source": [
    "df.shape"
   ]
  },
  {
   "cell_type": "code",
   "execution_count": 94,
   "id": "3d363045",
   "metadata": {},
   "outputs": [],
   "source": [
    "df.to_csv(\"final_scout_not_dummy.csv\", index=False)"
   ]
  },
  {
   "cell_type": "code",
   "execution_count": 95,
   "id": "f1ebcc63",
   "metadata": {},
   "outputs": [],
   "source": [
    "df = df.join(df[\"Comfort_Convenience\"].str.get_dummies(sep = \",\").add_prefix(\"cc_\"))\n",
    "df = df.join(df[\"Entertainment_Media\"].str.get_dummies(sep = \",\").add_prefix(\"em_\"))\n",
    "df = df.join(df[\"Extras\"].str.get_dummies(sep = \",\").add_prefix(\"ex_\"))\n",
    "df = df.join(df[\"Safety_Security\"].str.get_dummies(sep = \",\").add_prefix(\"ss_\"))"
   ]
  },
  {
   "cell_type": "code",
   "execution_count": 96,
   "id": "3c6babf1",
   "metadata": {},
   "outputs": [],
   "source": [
    "df.drop([\"Comfort_Convenience\",\"Entertainment_Media\",\"Extras\",\"Safety_Security\"], axis=1, inplace=True)"
   ]
  },
  {
   "cell_type": "code",
   "execution_count": 97,
   "id": "afea8f45",
   "metadata": {},
   "outputs": [
    {
     "data": {
      "text/plain": [
       "(15914, 114)"
      ]
     },
     "execution_count": 97,
     "metadata": {},
     "output_type": "execute_result"
    }
   ],
   "source": [
    "df.shape"
   ]
  },
  {
   "cell_type": "code",
   "execution_count": 98,
   "id": "042743b7",
   "metadata": {},
   "outputs": [],
   "source": [
    "df_final = pd.get_dummies(df, drop_first=True)"
   ]
  },
  {
   "cell_type": "code",
   "execution_count": 99,
   "id": "b3308511",
   "metadata": {},
   "outputs": [
    {
     "data": {
      "text/plain": [
       "(15914, 137)"
      ]
     },
     "execution_count": 99,
     "metadata": {},
     "output_type": "execute_result"
    }
   ],
   "source": [
    "df_final.shape"
   ]
  },
  {
   "cell_type": "code",
   "execution_count": 100,
   "id": "b199fec3",
   "metadata": {},
   "outputs": [
    {
     "data": {
      "text/html": [
       "<div>\n",
       "<style scoped>\n",
       "    .dataframe tbody tr th:only-of-type {\n",
       "        vertical-align: middle;\n",
       "    }\n",
       "\n",
       "    .dataframe tbody tr th {\n",
       "        vertical-align: top;\n",
       "    }\n",
       "\n",
       "    .dataframe thead th {\n",
       "        text-align: right;\n",
       "    }\n",
       "</style>\n",
       "<table border=\"1\" class=\"dataframe\">\n",
       "  <thead>\n",
       "    <tr style=\"text-align: right;\">\n",
       "      <th></th>\n",
       "      <th>0</th>\n",
       "      <th>1</th>\n",
       "      <th>2</th>\n",
       "      <th>3</th>\n",
       "      <th>4</th>\n",
       "    </tr>\n",
       "  </thead>\n",
       "  <tbody>\n",
       "    <tr>\n",
       "      <th>price</th>\n",
       "      <td>15770.0</td>\n",
       "      <td>14500.0</td>\n",
       "      <td>14640.0</td>\n",
       "      <td>14500.0</td>\n",
       "      <td>16790.0</td>\n",
       "    </tr>\n",
       "    <tr>\n",
       "      <th>km</th>\n",
       "      <td>56013.0</td>\n",
       "      <td>80000.0</td>\n",
       "      <td>83450.0</td>\n",
       "      <td>73000.0</td>\n",
       "      <td>16200.0</td>\n",
       "    </tr>\n",
       "    <tr>\n",
       "      <th>Gears</th>\n",
       "      <td>7.0</td>\n",
       "      <td>7.0</td>\n",
       "      <td>7.0</td>\n",
       "      <td>6.0</td>\n",
       "      <td>7.0</td>\n",
       "    </tr>\n",
       "    <tr>\n",
       "      <th>age</th>\n",
       "      <td>3.0</td>\n",
       "      <td>2.0</td>\n",
       "      <td>3.0</td>\n",
       "      <td>3.0</td>\n",
       "      <td>3.0</td>\n",
       "    </tr>\n",
       "    <tr>\n",
       "      <th>Previous_Owners</th>\n",
       "      <td>2.0</td>\n",
       "      <td>1.0</td>\n",
       "      <td>1.0</td>\n",
       "      <td>1.0</td>\n",
       "      <td>1.0</td>\n",
       "    </tr>\n",
       "    <tr>\n",
       "      <th>...</th>\n",
       "      <td>...</td>\n",
       "      <td>...</td>\n",
       "      <td>...</td>\n",
       "      <td>...</td>\n",
       "      <td>...</td>\n",
       "    </tr>\n",
       "    <tr>\n",
       "      <th>Upholstery_type_alcantara</th>\n",
       "      <td>0.0</td>\n",
       "      <td>0.0</td>\n",
       "      <td>0.0</td>\n",
       "      <td>0.0</td>\n",
       "      <td>0.0</td>\n",
       "    </tr>\n",
       "    <tr>\n",
       "      <th>Gearing_Type_Manual</th>\n",
       "      <td>0.0</td>\n",
       "      <td>0.0</td>\n",
       "      <td>0.0</td>\n",
       "      <td>0.0</td>\n",
       "      <td>0.0</td>\n",
       "    </tr>\n",
       "    <tr>\n",
       "      <th>Gearing_Type_Semi-automatic</th>\n",
       "      <td>0.0</td>\n",
       "      <td>0.0</td>\n",
       "      <td>0.0</td>\n",
       "      <td>0.0</td>\n",
       "      <td>0.0</td>\n",
       "    </tr>\n",
       "    <tr>\n",
       "      <th>Drive_chain_front</th>\n",
       "      <td>1.0</td>\n",
       "      <td>1.0</td>\n",
       "      <td>1.0</td>\n",
       "      <td>1.0</td>\n",
       "      <td>1.0</td>\n",
       "    </tr>\n",
       "    <tr>\n",
       "      <th>Drive_chain_rear</th>\n",
       "      <td>0.0</td>\n",
       "      <td>0.0</td>\n",
       "      <td>0.0</td>\n",
       "      <td>0.0</td>\n",
       "      <td>0.0</td>\n",
       "    </tr>\n",
       "  </tbody>\n",
       "</table>\n",
       "<p>137 rows × 5 columns</p>\n",
       "</div>"
      ],
      "text/plain": [
       "                                   0        1        2        3        4\n",
       "price                        15770.0  14500.0  14640.0  14500.0  16790.0\n",
       "km                           56013.0  80000.0  83450.0  73000.0  16200.0\n",
       "Gears                            7.0      7.0      7.0      6.0      7.0\n",
       "age                              3.0      2.0      3.0      3.0      3.0\n",
       "Previous_Owners                  2.0      1.0      1.0      1.0      1.0\n",
       "...                              ...      ...      ...      ...      ...\n",
       "Upholstery_type_alcantara        0.0      0.0      0.0      0.0      0.0\n",
       "Gearing_Type_Manual              0.0      0.0      0.0      0.0      0.0\n",
       "Gearing_Type_Semi-automatic      0.0      0.0      0.0      0.0      0.0\n",
       "Drive_chain_front                1.0      1.0      1.0      1.0      1.0\n",
       "Drive_chain_rear                 0.0      0.0      0.0      0.0      0.0\n",
       "\n",
       "[137 rows x 5 columns]"
      ]
     },
     "execution_count": 100,
     "metadata": {},
     "output_type": "execute_result"
    }
   ],
   "source": [
    "df_final.head().T"
   ]
  },
  {
   "cell_type": "code",
   "execution_count": 101,
   "id": "39e00252",
   "metadata": {},
   "outputs": [],
   "source": [
    "df_final.to_csv(\"final_scout_dummy.csv\", index=False)"
   ]
  },
  {
   "cell_type": "code",
   "execution_count": null,
   "id": "0011983e",
   "metadata": {},
   "outputs": [],
   "source": []
  }
 ],
 "metadata": {
  "kernelspec": {
   "display_name": "Python 3 (ipykernel)",
   "language": "python",
   "name": "python3"
  },
  "language_info": {
   "codemirror_mode": {
    "name": "ipython",
    "version": 3
   },
   "file_extension": ".py",
   "mimetype": "text/x-python",
   "name": "python",
   "nbconvert_exporter": "python",
   "pygments_lexer": "ipython3",
   "version": "3.9.12"
  },
  "nbTranslate": {
   "displayLangs": [
    "*"
   ],
   "hotkey": "alt-t",
   "langInMainMenu": true,
   "sourceLang": "en",
   "targetLang": "fr",
   "useGoogleTranslate": true
  },
  "toc": {
   "base_numbering": 1,
   "nav_menu": {},
   "number_sections": true,
   "sideBar": true,
   "skip_h1_title": false,
   "title_cell": "Table of Contents",
   "title_sidebar": "Contents",
   "toc_cell": false,
   "toc_position": {},
   "toc_section_display": true,
   "toc_window_display": false
  }
 },
 "nbformat": 4,
 "nbformat_minor": 5
}
